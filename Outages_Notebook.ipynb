{
 "cells": [
  {
   "cell_type": "markdown",
   "metadata": {},
   "source": [
    "# Power Outages\n",
    "\n",
    "\n",
    "### Getting the Data\n",
    "The data is downloadable [here](https://engineering.purdue.edu/LASCI/research-data/outages/outagerisks).\n",
    "\n",
    "A data dictionary is available at this [article](https://www.sciencedirect.com/science/article/pii/S2352340918307182) under *Table 1. Variable descriptions*.\n",
    "\n"
   ]
  },
  {
   "cell_type": "markdown",
   "metadata": {},
   "source": [
    "### Introduction\n",
    "\n",
    "Have you ever wondered if there was a reason why massive power outages in your community\n",
    "happen? Is it related to the weather? Too many people using the electricity? Maybe your region has\n",
    "poor electricity maintenance! In this project my partner and I attempt to tackle these questions. We\n",
    "utilize the dataset on these power outage events that dates back from January 2000 to July 2016"
   ]
  },
  {
   "cell_type": "code",
   "execution_count": 19,
   "metadata": {},
   "outputs": [],
   "source": [
    "# Import packages\n",
    "import matplotlib.pyplot as plt\n",
    "import numpy as np\n",
    "import os\n",
    "import pandas as pd\n",
    "import seaborn as sns\n",
    "from scipy.stats import pearsonr\n",
    "sns.set_theme(style= 'whitegrid')\n",
    "%matplotlib inline\n",
    "%config InlineBackend.figure_format = 'retina'"
   ]
  },
  {
   "cell_type": "code",
   "execution_count": null,
   "metadata": {},
   "outputs": [],
   "source": []
  },
  {
   "cell_type": "markdown",
   "metadata": {},
   "source": [
    "### Cleaning and EDA\n",
    "\n",
    "\n"
   ]
  },
  {
   "cell_type": "code",
   "execution_count": 20,
   "metadata": {},
   "outputs": [],
   "source": [
    "def read_data(fp):\n",
    "    #reads the excel file\n",
    "    data = pd.read_excel(fp, header = 5, usecols = \"B:T\")\n",
    "\n",
    "    # drop the first row with the descriptions\n",
    "    data = data.drop([0])\n",
    "\n",
    "    return data\n",
    "fp = os.path.join('data', 'outage.xlsx')\n",
    "data = read_data(fp).head()"
   ]
  },
  {
   "cell_type": "code",
   "execution_count": 21,
   "metadata": {},
   "outputs": [
    {
     "data": {
      "text/plain": [
       "OBS                        float64\n",
       "YEAR                       float64\n",
       "MONTH                      float64\n",
       "U.S._STATE                  object\n",
       "POSTAL.CODE                 object\n",
       "NERC.REGION                 object\n",
       "CLIMATE.REGION              object\n",
       "ANOMALY.LEVEL               object\n",
       "CLIMATE.CATEGORY            object\n",
       "OUTAGE.START.DATE           object\n",
       "OUTAGE.START.TIME           object\n",
       "OUTAGE.RESTORATION.DATE     object\n",
       "OUTAGE.RESTORATION.TIME     object\n",
       "CAUSE.CATEGORY              object\n",
       "CAUSE.CATEGORY.DETAIL       object\n",
       "HURRICANE.NAMES             object\n",
       "OUTAGE.DURATION             object\n",
       "DEMAND.LOSS.MW              object\n",
       "CUSTOMERS.AFFECTED         float64\n",
       "dtype: object"
      ]
     },
     "execution_count": 21,
     "metadata": {},
     "output_type": "execute_result"
    }
   ],
   "source": [
    "#checking the dtata types of the relevant columns\n",
    "data.dtypes"
   ]
  },
  {
   "cell_type": "code",
   "execution_count": 22,
   "metadata": {},
   "outputs": [
    {
     "ename": "SyntaxError",
     "evalue": "EOL while scanning string literal (<ipython-input-22-681f4b314110>, line 19)",
     "output_type": "error",
     "traceback": [
      "\u001b[0;36m  File \u001b[0;32m\"<ipython-input-22-681f4b314110>\"\u001b[0;36m, line \u001b[0;32m19\u001b[0m\n\u001b[0;31m    data_copy[\"OUTAGE.START.DATE\"] = pd.to_datetime(data_copy[\"OUTAGE.START\u001b[0m\n\u001b[0m                                                                           ^\u001b[0m\n\u001b[0;31mSyntaxError\u001b[0m\u001b[0;31m:\u001b[0m EOL while scanning string literal\n"
     ]
    }
   ],
   "source": [
    "# helper function to convert into seasons\n",
    "def season_helper(obs):\n",
    "    if obs >= 3 and obs <= 5:\n",
    "        return 'Spring'\n",
    "    elif obs >= 6 and obs <= 8:\n",
    "        return 'Summer'\n",
    "    elif obs >= 9 and obs <= 11:\n",
    "        return 'Fall'\n",
    "    elif pd.isnull(obs):\n",
    "        return np.NaN\n",
    "    else:\n",
    "        return 'Winter'\n",
    "\n",
    "def data_cleaning(data):\n",
    "\n",
    "    data_copy = data.copy(deep=True)\n",
    "\n",
    "    # combine outage start time/date\n",
    "    data_copy[\"OUTAGE.START.DATE\"] = pd.to_datetime(data_copy[\"OUTAGE.START\n",
    "    data_copy[\"OUTAGE.START.TIME\"]=pd.to_timedelta(data_copy[\"OUTAGE.STAR\n",
    "    data_copy[\"OUTAGE.START\"]=data_copy[\"OUTAGE.START.DATE\"] + data_copy\n",
    "    data_copy=data_copy.drop(columns=[\"OUTAGE.START.DATE\", \"OUTAGE.START\n",
    "\n",
    "    # combine outage restoration time/date\n",
    "    data_copy[\"OUTAGE.RESTORATION.DATE\"]=pd.to_datetime(data_copy[\"OUTAGE\n",
    "    data_copy[\"OUTAGE.RESTORATION.TIME\"]=pd.to_timedelta(data_copy[\"OUTAG\n",
    "    data_copy[\"OUTAGE.RESTORATION\"]=data_copy[\"OUTAGE.RESTORATION.DATE\"]\n",
    "    data_copy=data_copy.drop(columns=[\"OUTAGE.RESTORATION.DATE\", \"OUTAG\n",
    "\n",
    "    # cast values to 'correct' types + set index\n",
    "    data_copy=data_copy.set_index('OBS')\n",
    "    data_copy[\"YEAR\"]=data_copy[\"YEAR\"].astype(int)\n",
    "    data_copy[\"OUTAGE.DURATION\"]=data_copy[\"OUTAGE.DURATION\"].astype(floa\n",
    "    data_copy['DEMAND.LOSS.MW']=data_copy['DEMAND.LOSS.MW'].astype(float)\n",
    "    # add on a season column based on the month\n",
    "    data_copy['SEASON']=data_copy['MONTH'].apply(season_helper)\n",
    "\n",
    "\n",
    "    data_copy = data_copy.reset_index().drop(columns=['OBS'])\n",
    "\n",
    "    return data_copy\n"
   ]
  },
  {
   "cell_type": "code",
   "execution_count": null,
   "metadata": {},
   "outputs": [],
   "source": []
  }
 ],
 "metadata": {
  "kernelspec": {
   "display_name": "Python 3",
   "language": "python",
   "name": "python3"
  },
  "language_info": {
   "codemirror_mode": {
    "name": "ipython",
    "version": 3
   },
   "file_extension": ".py",
   "mimetype": "text/x-python",
   "name": "python",
   "nbconvert_exporter": "python",
   "pygments_lexer": "ipython3",
   "version": "3.8.6"
  }
 },
 "nbformat": 4,
 "nbformat_minor": 4
}
